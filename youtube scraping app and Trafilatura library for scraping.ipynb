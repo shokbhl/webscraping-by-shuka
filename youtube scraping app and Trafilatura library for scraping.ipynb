{
 "cells": [
  {
   "cell_type": "code",
   "execution_count": null,
   "id": "7f33b73c",
   "metadata": {},
   "outputs": [],
   "source": [
    "# load necessary components\n",
    "from trafilatura import fetch_url, extract\n"
   ]
  },
  {
   "cell_type": "code",
   "execution_count": null,
   "id": "08e48106",
   "metadata": {},
   "outputs": [],
   "source": [
    "url = 'https://www.youtube.com/@roxsauce'\n",
    "downloaded = fetch_url(url)\n",
    "downloaded is None  # assuming the download was successful\n"
   ]
  },
  {
   "cell_type": "code",
   "execution_count": null,
   "id": "9ef09adb",
   "metadata": {},
   "outputs": [],
   "source": [
    "import trafilatura\n",
    "\n",
    "def extract(html_content):\n",
    "    try:\n",
    "        extracted_text = trafilatura.extract(html_content)\n",
    "        return extracted_text\n",
    "    except Exception as e:\n",
    "        print(f\"An error occurred during extraction: {e}\")\n",
    "        return None\n",
    "\n",
    "# Assuming you've already fetched the HTML content using fetch_url\n",
    "url = 'https://www.youtube.com/@roxsauce'\n",
    "downloaded = fetch_url(url)\n",
    "\n",
    "if downloaded is not None:\n",
    "    extracted_text = extract(downloaded)\n",
    "    if extracted_text is not None:\n",
    "        print(extracted_text)\n",
    "    else:\n",
    "        print(\"Extraction failed.\")\n",
    "else:\n",
    "    print(\"Download failed.\")\n"
   ]
  },
  {
   "cell_type": "code",
   "execution_count": 8,
   "id": "75f143ab",
   "metadata": {},
   "outputs": [
    {
     "name": "stdout",
     "output_type": "stream",
     "text": [
      "About Press Copyright Contact us Creator Advertise Developers Terms Privacy Policy & Safety How YouTube works Test new features © 2024 Google LLC roxsauce - YouTube\n",
      "About Press Copyright Contact us Creator Advertise Developers Terms Privacy Policy & Safety How YouTube works Test new features © 2024 Google LLC roxsauce - YouTube\n",
      "<doc date=\"2024-02-16\" categories=\"\" tags=\"\" fingerprint=\"526790d5d15d3656\">   <main>     <p>About Press Copyright Contact us Creator Advertise Developers Terms Privacy Policy &amp; Safety How YouTube works Test new features © 2024 Google LLC roxsauce - YouTube</p>   </main>   <comments/> </doc>\n",
      "<doc date=\"2024-02-16\" categories=\"\" tags=\"\" fingerprint=\"526790d5d15d3656\">   <main>     <p>About Press Copyright Contact us Creator Advertise Developers Terms Privacy Policy &amp; Safety How YouTube works Test new features © 2024 Google LLC roxsauce - YouTube</p>   </main>   <comments/> </doc>\n",
      "About Press Copyright Contact us Creator Advertise Developers Terms Privacy Policy & Safety How YouTube works Test new features © 2024 Google LLC roxsauce - YouTube\n"
     ]
    }
   ],
   "source": [
    "from trafilatura import extract\n",
    "\n",
    "# Assuming 'downloaded' and 'url' are defined somewhere\n",
    "result = extract(downloaded)\n",
    "result_without_newlines = result.replace('\\n', ' ')\n",
    "print(result_without_newlines)\n",
    "\n",
    "# You can do the same for other cases\n",
    "result_with_links = extract(downloaded, include_links=True)\n",
    "result_with_links_without_newlines = result_with_links.replace('\\n', ' ')\n",
    "print(result_with_links_without_newlines)\n",
    "\n",
    "result_xml = extract(downloaded, output_format='xml')\n",
    "result_xml_without_newlines = result_xml.replace('\\n', ' ')\n",
    "print(result_xml_without_newlines)\n",
    "\n",
    "result_xml_with_links = extract(downloaded, output_format='xml', include_links=True)\n",
    "result_xml_with_links_without_newlines = result_xml_with_links.replace('\\n', ' ')\n",
    "print(result_xml_with_links_without_newlines)\n",
    "\n",
    "# Make sure to provide the 'url' parameter if needed\n",
    "result_links_without_newlines = extract(downloaded, include_links=True, url=url).replace('\\n', ' ')\n",
    "print(result_links_without_newlines)\n"
   ]
  },
  {
   "cell_type": "code",
   "execution_count": 9,
   "id": "8e01517d",
   "metadata": {},
   "outputs": [],
   "source": [
    "# no comments in output\n",
    "result = extract(downloaded, include_comments=False)\n",
    "\n",
    "# skip tables examination\n",
    "result = extract(downloaded, include_tables=False)\n",
    "\n",
    "# output with links\n",
    "result = extract(downloaded, include_links=True)\n",
    "# and so on..."
   ]
  },
  {
   "cell_type": "code",
   "execution_count": 10,
   "id": "fdc4fd0e",
   "metadata": {},
   "outputs": [
    {
     "data": {
      "text/plain": [
       "'About\\nPress\\nCopyright\\nContact us\\nCreator\\nAdvertise\\nDevelopers\\nTerms\\nPrivacy\\nPolicy & Safety\\nHow YouTube works\\nTest new features\\n© 2024 Google LLC\\nroxsauce - YouTube'"
      ]
     },
     "execution_count": 10,
     "metadata": {},
     "output_type": "execute_result"
    }
   ],
   "source": [
    "result = extract(downloaded, url, favor_precision=True)\n",
    "result"
   ]
  },
  {
   "cell_type": "code",
   "execution_count": 11,
   "id": "74d4ea89",
   "metadata": {},
   "outputs": [
    {
     "data": {
      "text/plain": [
       "'AboutPressCopyrightContact usCreatorAdvertiseDevelopersTermsPrivacyPolicy & SafetyHow YouTube worksTest new features© 2024 Google LLCroxsauce - YouTube'"
      ]
     },
     "execution_count": 11,
     "metadata": {},
     "output_type": "execute_result"
    }
   ],
   "source": [
    "from trafilatura import html2txt\n",
    "html2txt(downloaded)"
   ]
  },
  {
   "cell_type": "code",
   "execution_count": 12,
   "id": "17f3726f",
   "metadata": {},
   "outputs": [],
   "source": [
    "result = extract(downloaded, url, target_language=\"de\")"
   ]
  },
  {
   "cell_type": "code",
   "execution_count": 13,
   "id": "9434f69c",
   "metadata": {},
   "outputs": [],
   "source": [
    "# skip algorithms used as fallb\n",
    "result = extract(downloaded, no_fallback=True)"
   ]
  },
  {
   "cell_type": "code",
   "execution_count": 14,
   "id": "2e0bf9fa",
   "metadata": {},
   "outputs": [],
   "source": [
    "# skip algorithms used as fallbac\n",
    "result = extract(downloaded, no_fallback=True)"
   ]
  },
  {
   "cell_type": "code",
   "execution_count": 15,
   "id": "dd7b5e5d",
   "metadata": {},
   "outputs": [],
   "source": [
    "result = extract(downloaded, include_comments=False, include_tables=False, no_fallback=True)"
   ]
  },
  {
   "cell_type": "code",
   "execution_count": 16,
   "id": "eaa214b6",
   "metadata": {},
   "outputs": [
    {
     "data": {
      "text/plain": [
       "'qAgzZnskrcRgeftk'"
      ]
     },
     "execution_count": 16,
     "metadata": {},
     "output_type": "execute_result"
    }
   ],
   "source": [
    "# create a filename-safe string by hashing the given content\n",
    "from trafilatura.hashing import generate_hash_filename\n",
    "generate_hash_filename(\"This is a text.\")\n"
   ]
  },
  {
   "cell_type": "code",
   "execution_count": 17,
   "id": "1115dd93",
   "metadata": {},
   "outputs": [
    {
     "data": {
      "text/plain": [
       "0.84375"
      ]
     },
     "execution_count": 17,
     "metadata": {},
     "output_type": "execute_result"
    }
   ],
   "source": [
    "# create a Simhash for near-duplicate detectio\n",
    "from trafilatura.hashing import Simhash\n",
    "first = Simhash(\"This is a text.\")\n",
    "second = Simhash(\"This is a test.\")\n",
    "second.similarity(first)\n",
    "\n",
    "\n"
   ]
  },
  {
   "cell_type": "code",
   "execution_count": 18,
   "id": "cffdc27a",
   "metadata": {},
   "outputs": [
    {
     "data": {
      "text/plain": [
       "1.0"
      ]
     },
     "execution_count": 18,
     "metadata": {},
     "output_type": "execute_result"
    }
   ],
   "source": [
    "# use existing Simhash\n",
    "first_copy = Simhash(existing_hash=first.hash)\n",
    "first_copy.similarity(first)\n"
   ]
  },
  {
   "cell_type": "code",
   "execution_count": 19,
   "id": "d2538251",
   "metadata": {},
   "outputs": [
    {
     "name": "stdout",
     "output_type": "stream",
     "text": [
      "About Press Copyright Contact us Creator Advertise Developers Terms Privacy Policy & Safety How YouTube works Test new features © 2024 Google LLC roxsauce - YouTube\n"
     ]
    }
   ],
   "source": [
    "from trafilatura.settings import use_config\n",
    "from trafilatura import extract\n",
    "\n",
    "# Assuming 'downloaded' and 'url' are defined somewhere\n",
    "newconfig = use_config()\n",
    "newconfig.set(\"DEFAULT\", \"EXTRACTION_TIMEOUT\", \"0\")\n",
    "result = extract(downloaded, config=newconfig)\n",
    "\n",
    "# Remove newline characters from the result\n",
    "result_without_newlines = result.replace('\\n', ' ')\n",
    "\n",
    "print(result_without_newlines)\n",
    "\n"
   ]
  },
  {
   "cell_type": "code",
   "execution_count": 20,
   "id": "a9a4cd90",
   "metadata": {},
   "outputs": [
    {
     "data": {
      "text/plain": [
       "'<doc date=\"2000-01-01\" categories=\"\" tags=\"\" fingerprint=\"526790d5d15d3656\">\\n  <main>\\n    <p>About Press Copyright Contact us Creator Advertise Developers Terms Privacy Policy &amp; Safety How YouTube works Test new features © 2024 Google LLC roxsauce - YouTube</p>\\n  </main>\\n  <comments/>\\n</doc>'"
      ]
     },
     "execution_count": 20,
     "metadata": {},
     "output_type": "execute_result"
    }
   ],
   "source": [
    "# import the extract() function, use a previously downloaded document\n",
    "# pass the new parameters as dict\n",
    "extract(downloaded, output_format=\"xml\", date_extraction_params={\n",
    "        \"extensive_search\": True, \"max_date\": \"2018-07-01\"\n",
    "    })"
   ]
  },
  {
   "cell_type": "code",
   "execution_count": 21,
   "id": "2e595f18",
   "metadata": {},
   "outputs": [],
   "source": [
    "from trafilatura import bare_extraction\n"
   ]
  },
  {
   "cell_type": "code",
   "execution_count": 22,
   "id": "a33e89c2",
   "metadata": {},
   "outputs": [],
   "source": [
    "def bare_extraction(downloaded, with_metadata=True, url=None):\n",
    "    # Your implementation goes here\n",
    "    pass  # Replace this with your actual implementation\n",
    "\n",
    "# Now you can use the function\n",
    "bare_extraction(downloaded, with_metadata=True)\n",
    "bare_extraction(downloaded, with_metadata=True, url=url)\n",
    "\n"
   ]
  },
  {
   "cell_type": "code",
   "execution_count": 23,
   "id": "25cd97fa",
   "metadata": {},
   "outputs": [],
   "source": [
    "from trafilatura.meta import reset_caches\n",
    "\n",
    "# at any given point\n",
    "reset_caches()"
   ]
  },
  {
   "cell_type": "code",
   "execution_count": 24,
   "id": "e28596e4",
   "metadata": {},
   "outputs": [
    {
     "data": {
      "text/plain": [
       "{'title': None,\n",
       " 'author': None,\n",
       " 'url': None,\n",
       " 'hostname': None,\n",
       " 'description': None,\n",
       " 'sitename': None,\n",
       " 'date': '2024-02-16',\n",
       " 'categories': [],\n",
       " 'tags': [],\n",
       " 'fingerprint': None,\n",
       " 'id': None,\n",
       " 'license': None,\n",
       " 'body': None,\n",
       " 'comments': '',\n",
       " 'commentsbody': None,\n",
       " 'raw_text': None,\n",
       " 'text': 'About\\nPress\\nCopyright\\nContact us\\nCreator\\nAdvertise\\nDevelopers\\nTerms\\nPrivacy\\nPolicy & Safety\\nHow YouTube works\\nTest new features\\n© 2024 Google LLC\\nroxsauce - YouTube',\n",
       " 'language': None,\n",
       " 'image': None,\n",
       " 'pagetype': None}"
      ]
     },
     "execution_count": 24,
     "metadata": {},
     "output_type": "execute_result"
    }
   ],
   "source": [
    "from trafilatura import bare_extraction\n",
    "bare_extraction(downloaded)"
   ]
  },
  {
   "cell_type": "code",
   "execution_count": 25,
   "id": "08ab6e2f",
   "metadata": {},
   "outputs": [],
   "source": [
    "# necessary components\n",
    "from trafilatura import fetch_response, bare_extraction\n",
    "\n",
    "# load an example\n",
    "response = fetch_response(\"https://www.youtube.com\")\n",
    "\n",
    "# perform extract() or bare_extraction() on Trafilatura's response object\n",
    "# your additional code here...\n"
   ]
  },
  {
   "cell_type": "code",
   "execution_count": 26,
   "id": "0e1f3ed4",
   "metadata": {},
   "outputs": [
    {
     "data": {
      "text/plain": [
       "{'title': 'YouTube',\n",
       " 'author': None,\n",
       " 'url': 'https://www.youtube.com/',\n",
       " 'hostname': 'youtube.com',\n",
       " 'description': 'Enjoy the videos and music that you love, upload original content and share it all with friends, family and the world on YouTube.',\n",
       " 'sitename': 'youtube.com',\n",
       " 'date': '2024-02-16',\n",
       " 'categories': [],\n",
       " 'tags': ['video, sharing, camera phone, video phone, free, upload'],\n",
       " 'fingerprint': None,\n",
       " 'id': None,\n",
       " 'license': None,\n",
       " 'body': None,\n",
       " 'comments': '',\n",
       " 'commentsbody': None,\n",
       " 'raw_text': None,\n",
       " 'text': 'About\\nPress\\nCopyright\\nContact us\\nCreator\\nAdvertise\\nDevelopers\\nTerms\\nPrivacy\\nPolicy & Safety\\nHow YouTube works\\nTest new features\\n© 2024 Google LLC',\n",
       " 'language': None,\n",
       " 'image': 'https://www.youtube.com/img/desktop/yt_1200.png',\n",
       " 'pagetype': None}"
      ]
     },
     "execution_count": 26,
     "metadata": {},
     "output_type": "execute_result"
    }
   ],
   "source": [
    "bare_extraction(response.data, url=response.url)  # here is the redirectio"
   ]
  },
  {
   "cell_type": "code",
   "execution_count": 27,
   "id": "0d3fbc6b",
   "metadata": {},
   "outputs": [
    {
     "data": {
      "text/plain": [
       "'Here is the main text.'"
      ]
     },
     "execution_count": 27,
     "metadata": {},
     "output_type": "execute_result"
    }
   ],
   "source": [
    "# define document and load it with LXML\n",
    "from lxml import html\n",
    "my_doc = \"\"\"<html><body><article><p>\n",
    "                Here is the main text.\n",
    "                </p></article></body></html>\"\"\"\n",
    "mytree = html.fromstring(my_doc)\n",
    "# extract from the already loaded LXML tree\n",
    "extract(mytree)\n"
   ]
  },
  {
   "cell_type": "code",
   "execution_count": 32,
   "id": "1d8241ea",
   "metadata": {},
   "outputs": [
    {
     "name": "stdout",
     "output_type": "stream",
     "text": [
      "Enter the video name you are looking for: shuka\n",
      "Found video: https://www.youtube.com/watch?v=0FnZO-U5oHo\n"
     ]
    }
   ],
   "source": [
    "from googleapiclient.discovery import build\n",
    "\n",
    "# Replace 'YOUR_API_KEY' with the API key you obtained\n",
    "api_key = 'YOUR_API_KEY'\n",
    "youtube = build('youtube', 'v3', developerKey=api_key)\n",
    "\n",
    "def search_video(api_key, video_name):\n",
    "    # Search for videos by title\n",
    "    search_response = youtube.search().list(\n",
    "        q=video_name,\n",
    "        part='id',\n",
    "        type='video',\n",
    "    ).execute()\n",
    "\n",
    "    if 'items' in search_response:\n",
    "        video_id = search_response['items'][0]['id']['videoId']\n",
    "        video_url = f'https://www.youtube.com/watch?v={video_id}'\n",
    "        print(f'Found video: {video_url}')\n",
    "    else:\n",
    "        print('Video not found.')\n",
    "\n",
    "# Ask the user for the video name\n",
    "video_name = input(\"Enter the video name you are looking for: \")\n",
    "\n",
    "# Search for the video using the API\n",
    "search_video(api_key, video_name)\n"
   ]
  },
  {
   "cell_type": "code",
   "execution_count": 33,
   "id": "c561b0d6",
   "metadata": {},
   "outputs": [
    {
     "name": "stdout",
     "output_type": "stream",
     "text": [
      "Enter the YouTube username (leave blank for all users): \n",
      "Enter the video name you are looking for: shuka\n",
      "Found video: https://www.youtube.com/watch?v=0FnZO-U5oHo\n"
     ]
    }
   ],
   "source": [
    "from googleapiclient.discovery import build\n",
    "\n",
    "# Replace 'YOUR_API_KEY' with the API key you obtained\n",
    "api_key = 'YOUR_API_KEY'\n",
    "youtube = build('youtube', 'v3', developerKey=api_key)\n",
    "\n",
    "def search_video(api_key, username=None, video_name=None):\n",
    "    if username:\n",
    "        # If a specific username is provided, search within that user's videos\n",
    "        search_response = youtube.channels().list(\n",
    "            forUsername=username,\n",
    "            part='id'\n",
    "        ).execute()\n",
    "\n",
    "        if 'items' in search_response:\n",
    "            channel_id = search_response['items'][0]['id']\n",
    "            videos_response = youtube.search().list(\n",
    "                channelId=channel_id,\n",
    "                q=video_name,\n",
    "                part='id',\n",
    "                type='video',\n",
    "            ).execute()\n",
    "\n",
    "            if 'items' in videos_response:\n",
    "                video_id = videos_response['items'][0]['id']['videoId']\n",
    "                video_url = f'https://www.youtube.com/watch?v={video_id}'\n",
    "                print(f'Found video: {video_url}')\n",
    "            else:\n",
    "                print('Video not found in the specified user\\'s videos.')\n",
    "\n",
    "        else:\n",
    "            print(f'User with username \"{username}\" not found.')\n",
    "\n",
    "    else:\n",
    "        # If no specific username is provided, search among all videos\n",
    "        search_response = youtube.search().list(\n",
    "            q=video_name,\n",
    "            part='id',\n",
    "            type='video',\n",
    "        ).execute()\n",
    "\n",
    "        if 'items' in search_response:\n",
    "            video_id = search_response['items'][0]['id']['videoId']\n",
    "            video_url = f'https://www.youtube.com/watch?v={video_id}'\n",
    "            print(f'Found video: {video_url}')\n",
    "        else:\n",
    "            print('Video not found among all users and videos.')\n",
    "\n",
    "# Ask the user for the username\n",
    "username = input(\"Enter the YouTube username (leave blank for all users): \")\n",
    "\n",
    "# Ask the user for the video name\n",
    "video_name = input(\"Enter the video name you are looking for: \")\n",
    "\n",
    "# Search for the video using the API\n",
    "search_video(api_key, username, video_name)\n"
   ]
  },
  {
   "cell_type": "code",
   "execution_count": 34,
   "id": "e2f68ec8",
   "metadata": {},
   "outputs": [
    {
     "name": "stdout",
     "output_type": "stream",
     "text": [
      "Enter the YouTube username (leave blank for all users): \n",
      "Enter the video name you are looking for: shuka\n",
      "Found videos among all users and videos:\n",
      "8 ASLE - SUKHA | GURLEZ AKHTAR | CHANI NATTAN | PRODGK: https://www.youtube.com/watch?v=0FnZO-U5oHo\n",
      "Shuka | Vocals Of Praise | Nakuru High Music Sabbath | Varch Media: https://www.youtube.com/watch?v=HxSdujjIy-c\n",
      "SHUKA -Dr. Sarah K &amp; Shachah Team (LIVE VIDEO): https://www.youtube.com/watch?v=hJDRUx_5b6I\n",
      "SHUKA TUKUONE MUNGU WETU BY SIFAELI MWABUKA. Shuka Tukuone - *811*239#: https://www.youtube.com/watch?v=H3eX1aA5pfo\n",
      "SIMON SIMS-  SHUKA UTENDE (Official Video): https://www.youtube.com/watch?v=T_S5RaFFXQE\n"
     ]
    }
   ],
   "source": [
    "from googleapiclient.discovery import build\n",
    "\n",
    "# Replace 'YOUR_API_KEY' with the API key you obtained\n",
    "api_key = 'YOUR_API_KEY'\n",
    "youtube = build('youtube', 'v3', developerKey=api_key)\n",
    "\n",
    "def search_videos(api_key, username=None, video_name=None, max_results=5):\n",
    "    if username:\n",
    "        # If a specific username is provided, search within that user's videos\n",
    "        search_response = youtube.channels().list(\n",
    "            forUsername=username,\n",
    "            part='id'\n",
    "        ).execute()\n",
    "\n",
    "        if 'items' in search_response:\n",
    "            channel_id = search_response['items'][0]['id']\n",
    "            videos_response = youtube.search().list(\n",
    "                channelId=channel_id,\n",
    "                q=video_name,\n",
    "                part='snippet',\n",
    "                type='video',\n",
    "                maxResults=max_results,\n",
    "            ).execute()\n",
    "\n",
    "            if 'items' in videos_response:\n",
    "                print(f\"Found videos in the specified user's channel:\")\n",
    "                for item in videos_response['items']:\n",
    "                    video_id = item['id']['videoId']\n",
    "                    video_url = f'https://www.youtube.com/watch?v={video_id}'\n",
    "                    print(f'{item[\"snippet\"][\"title\"]}: {video_url}')\n",
    "\n",
    "            else:\n",
    "                print(f'No videos found in the specified user\\'s channel with a similar name.')\n",
    "\n",
    "        else:\n",
    "            print(f'User with username \"{username}\" not found.')\n",
    "\n",
    "    else:\n",
    "        # If no specific username is provided, search among all videos\n",
    "        search_response = youtube.search().list(\n",
    "            q=video_name,\n",
    "            part='snippet',\n",
    "            type='video',\n",
    "            maxResults=max_results,\n",
    "        ).execute()\n",
    "\n",
    "        if 'items' in search_response:\n",
    "            print(\"Found videos among all users and videos:\")\n",
    "            for item in search_response['items']:\n",
    "                video_id = item['id']['videoId']\n",
    "                video_url = f'https://www.youtube.com/watch?v={video_id}'\n",
    "                print(f'{item[\"snippet\"][\"title\"]}: {video_url}')\n",
    "\n",
    "        else:\n",
    "            print('No videos found among all users and videos with a similar name.')\n",
    "\n",
    "# Ask the user for the username\n",
    "username = input(\"Enter the YouTube username (leave blank for all users): \")\n",
    "\n",
    "# Ask the user for the video name\n",
    "video_name = input(\"Enter the video name you are looking for: \")\n",
    "\n",
    "# Search for the videos using the API\n",
    "search_videos(api_key, username, video_name, max_results=5)\n",
    "\n"
   ]
  },
  {
   "cell_type": "code",
   "execution_count": null,
   "id": "e404bf84",
   "metadata": {},
   "outputs": [],
   "source": []
  }
 ],
 "metadata": {
  "kernelspec": {
   "display_name": "Python 3 (ipykernel)",
   "language": "python",
   "name": "python3"
  },
  "language_info": {
   "codemirror_mode": {
    "name": "ipython",
    "version": 3
   },
   "file_extension": ".py",
   "mimetype": "text/x-python",
   "name": "python",
   "nbconvert_exporter": "python",
   "pygments_lexer": "ipython3",
   "version": "3.11.4"
  }
 },
 "nbformat": 4,
 "nbformat_minor": 5
}
